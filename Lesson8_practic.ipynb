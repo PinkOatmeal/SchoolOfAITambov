{
 "cells": [
  {
   "cell_type": "markdown",
   "metadata": {},
   "source": [
    "Корпус взят отсюда\n",
    "https://drive.google.com/drive/u/1/folders/0B65_GJ8xcCTzR01EZnNlQXdvTms\n",
    "\n",
    "Сам пример отсюда https://github.com/spro/practical-pytorch/blob/master/char-rnn-generation/char-rnn-generation.ipynb"
   ]
  },
  {
   "cell_type": "code",
   "execution_count": 21,
   "metadata": {},
   "outputs": [
    {
     "name": "stdout",
     "output_type": "stream",
     "text": [
      "file_len = 8680217\n"
     ]
    }
   ],
   "source": [
    "import unidecode\n",
    "import string\n",
    "import random\n",
    "import re\n",
    "\n",
    "file = open('data/tolstoy.txt').read()\n",
    "file_len = len(file)\n",
    "print('file_len =', file_len)"
   ]
  },
  {
   "cell_type": "code",
   "execution_count": 87,
   "metadata": {},
   "outputs": [
    {
     "data": {
      "text/plain": [
       "'\\n\\nПолное собрание сочинений. Том 2\\n\\n\\n\\n\\n\\n\\n\\nЛев НиколаевичТолстойПолное собрание сочинений. Том 2Отроч'"
      ]
     },
     "execution_count": 87,
     "metadata": {},
     "output_type": "execute_result"
    }
   ],
   "source": [
    "file[:100]"
   ]
  },
  {
   "cell_type": "code",
   "execution_count": 28,
   "metadata": {},
   "outputs": [],
   "source": [
    "all_characters = ''.join(set(file))\n",
    "n_characters = len(all_characters)"
   ]
  },
  {
   "cell_type": "code",
   "execution_count": 103,
   "metadata": {},
   "outputs": [
    {
     "data": {
      "text/plain": [
       "222"
      ]
     },
     "execution_count": 103,
     "metadata": {},
     "output_type": "execute_result"
    }
   ],
   "source": [
    "n_characters"
   ]
  },
  {
   "cell_type": "code",
   "execution_count": 29,
   "metadata": {},
   "outputs": [
    {
     "data": {
      "text/plain": [
       "'wУ»СdБèûâіỳ„ïЛХ]É5̀r.î‹хpцçѣЯWöΘзÎНэЙи<ßiÇëęe\\xa0нÀуҌo=ЦκОГІC6̀9РТGHдżъόäb>MЫ\\nЬ¼xtеàщQ{Ѣ_с2kЧоЕлTмYNњ́Ѵ№Ò–0KМ―ќȃuб—s;йUPЁ! ыaD3qПáёh|Ю/RЖтрЗAФòzygАя%Вù+жфJmК-X«(Ъга\",⅜vIóЭвЊч8?7f›шVôИ’½:@Щӧ\\'°nFѳШjДéEҍ“Z)SO[юL41Bœc…×Ѳ*êćüьпśl'"
      ]
     },
     "execution_count": 29,
     "metadata": {},
     "output_type": "execute_result"
    }
   ],
   "source": [
    "all_characters"
   ]
  },
  {
   "cell_type": "code",
   "execution_count": 30,
   "metadata": {},
   "outputs": [
    {
     "name": "stdout",
     "output_type": "stream",
     "text": [
      "удто обнимая что-то. Мать вернулась в хату и, узнав, о чем говорила немая, улыбнулась и покачала головой. Немая показала ей пряники и снова прогудела от радости.\n",
      "— Я Улите говорила намедни, что сватать\n"
     ]
    }
   ],
   "source": [
    "chunk_len = 200\n",
    "\n",
    "def random_chunk():\n",
    "    start_index = random.randint(0, file_len - chunk_len)\n",
    "    end_index = start_index + chunk_len + 1\n",
    "    return file[start_index:end_index]\n",
    "\n",
    "print(random_chunk())"
   ]
  },
  {
   "cell_type": "code",
   "execution_count": 31,
   "metadata": {},
   "outputs": [],
   "source": [
    "import torch\n",
    "import torch.nn as nn\n",
    "from torch.autograd import Variable\n",
    "\n",
    "class RNN(nn.Module):\n",
    "    def __init__(self, input_size, hidden_size, output_size, n_layers=1):\n",
    "        super(RNN, self).__init__()\n",
    "        self.input_size = input_size\n",
    "        self.hidden_size = hidden_size\n",
    "        self.output_size = output_size\n",
    "        self.n_layers = n_layers\n",
    "        \n",
    "        self.encoder = nn.Embedding(input_size, hidden_size)\n",
    "        self.gru = nn.GRU(hidden_size, hidden_size, n_layers)\n",
    "        self.decoder = nn.Linear(hidden_size, output_size)\n",
    "    \n",
    "    def forward(self, input, hidden):\n",
    "        input = self.encoder(input.view(1, -1))\n",
    "        output, hidden = self.gru(input.view(1, 1, -1), hidden)\n",
    "        output = self.decoder(output.view(1, -1))\n",
    "        return output, hidden\n",
    "\n",
    "    def init_hidden(self):\n",
    "        return Variable(torch.zeros(self.n_layers, 1, self.hidden_size))"
   ]
  },
  {
   "cell_type": "code",
   "execution_count": 32,
   "metadata": {},
   "outputs": [
    {
     "name": "stdout",
     "output_type": "stream",
     "text": [
      "Variable containing:\n",
      "  86\n",
      " 161\n",
      "  94\n",
      "  37\n",
      "[torch.LongTensor of size 4]\n",
      "\n"
     ]
    }
   ],
   "source": [
    "# Turn string into list of longs\n",
    "def char_tensor(string):\n",
    "    tensor = torch.zeros(len(string)).long()\n",
    "    for c in range(len(string)):\n",
    "        tensor[c] = all_characters.index(string[c])\n",
    "    return Variable(tensor)\n",
    "\n",
    "print(char_tensor('сами'))"
   ]
  },
  {
   "cell_type": "code",
   "execution_count": 33,
   "metadata": {},
   "outputs": [],
   "source": [
    "def random_training_set():    \n",
    "    chunk = random_chunk()\n",
    "    inp = char_tensor(chunk[:-1])\n",
    "    target = char_tensor(chunk[1:])\n",
    "    return inp, target"
   ]
  },
  {
   "cell_type": "code",
   "execution_count": 34,
   "metadata": {},
   "outputs": [],
   "source": [
    "def evaluate(prime_str='A', predict_len=100, temperature=0.8):\n",
    "    hidden = decoder.init_hidden()\n",
    "    prime_input = char_tensor(prime_str)\n",
    "    predicted = prime_str\n",
    "\n",
    "    # Use priming string to \"build up\" hidden state\n",
    "    for p in range(len(prime_str) - 1):\n",
    "        _, hidden = decoder(prime_input[p], hidden)\n",
    "    inp = prime_input[-1]\n",
    "    \n",
    "    for p in range(predict_len):\n",
    "        output, hidden = decoder(inp, hidden)\n",
    "        \n",
    "        # Sample from the network as a multinomial distribution\n",
    "        output_dist = output.data.view(-1).div(temperature).exp()\n",
    "        top_i = torch.multinomial(output_dist, 1)[0]\n",
    "        \n",
    "        # Add predicted character to string and use as next input\n",
    "        predicted_char = all_characters[top_i]\n",
    "        predicted += predicted_char\n",
    "        inp = char_tensor(predicted_char)\n",
    "\n",
    "    return predicted"
   ]
  },
  {
   "cell_type": "code",
   "execution_count": 35,
   "metadata": {},
   "outputs": [],
   "source": [
    "import time, math\n",
    "\n",
    "def time_since(since):\n",
    "    s = time.time() - since\n",
    "    m = math.floor(s / 60)\n",
    "    s -= m * 60\n",
    "    return '%dm %ds' % (m, s)"
   ]
  },
  {
   "cell_type": "code",
   "execution_count": 36,
   "metadata": {},
   "outputs": [],
   "source": [
    "def train(inp, target):\n",
    "    hidden = decoder.init_hidden()\n",
    "    decoder.zero_grad()\n",
    "    loss = 0\n",
    "\n",
    "    for c in range(chunk_len):\n",
    "        output, hidden = decoder(inp[c], hidden)\n",
    "        loss += criterion(output, target[c])\n",
    "\n",
    "    loss.backward()\n",
    "    decoder_optimizer.step()\n",
    "\n",
    "    return loss.data[0] / chunk_len"
   ]
  },
  {
   "cell_type": "code",
   "execution_count": 45,
   "metadata": {},
   "outputs": [
    {
     "name": "stdout",
     "output_type": "stream",
     "text": [
      "[0m 56s (100 5%) 2.8302]\n",
      "Ма пно пастрижети рето го у чие — рикрев ловщата\n",
      "тат в покажедик сднедотти Пое чаен8вра «ажи пя дед.,  \n",
      "\n",
      "[1m 59s (200 10%) 2.9170]\n",
      "Маювньчегенслуже гно не, поненя я «и килел, зик на нпрыт рил скану и е был нуй в поско рорирано песо я \n",
      "\n",
      "[3m 1s (300 15%) 2.7141]\n",
      "Маши миги стол. та сегрволо. чали я оридногисаними ей породстъ, в  еня вшым. 0 дороге дтал меска?] о о \n",
      "\n",
      "[4m 3s (400 20%) 3.1282]\n",
      "Мавногебу далъ зать ко погло тобой вото гория залчуй на велу и воз коно омя, ширсё зан..\n",
      "\n",
      "\n",
      "\n",
      "\n",
      "\n",
      "\n",
      "\n",
      "\n",
      "\n",
      "\n",
      "\n",
      "\n",
      "\n",
      " \n",
      "\n",
      "[5m 17s (500 25%) 2.3467]\n",
      "Маишанитъ мосина либелъ Накъ, присто, 18964Я. —\n",
      "47В ожевстрать, ты, в бедть баженни, я вая итый.  |18] \n",
      "\n",
      "[6m 54s (600 30%) 2.6916]\n",
      "Маалъ, я чазакал), на все круженювеевъ <Оэносъ», скотороваегу на настяния, преллина, 5 тужалъ чки, что \n",
      "\n",
      "[7m 54s (700 35%) 2.6548]\n",
      "Мары вижить,, ««Отичка обно визнодомор, Олежем, поставне и стали и гужки на обидать выть, опылих бы вы \n",
      "\n",
      "[8m 51s (800 40%) 2.4007]\n",
      "Манин и влевепну, — подустванно мешля ои невличало прогдаде авой, чеменил на мыние домени, всужно можи \n",
      "\n",
      "[9m 52s (900 45%) 2.5569]\n",
      "Малирова, строх го деловали вдруе, вды, вискпурениа, но разк хотерика проженовуть и внис рованую, как  \n",
      "\n",
      "[10m 56s (1000 50%) 2.3376]\n",
      "Мал зарь, не браку, ше, — сколии сущулия бал он в его не передирку на укакой больше то близничевся, по \n",
      "\n",
      "[11m 57s (1100 55%) 2.1424]\n",
      "Мало забвей в иприсля, как подле аведкай, Багал, 15608 Это вдрифить.\n",
      "Мартоской ввестодоворувся в Толят \n",
      "\n",
      "[12m 53s (1200 60%) 2.5392]\n",
      "Мали к аженского всрутать: — въ саней Адали тожной не дажеющенія обольника. Не вениее будущее головое  \n",
      "\n",
      "[14m 5s (1300 65%) 2.0088]\n",
      "Марьюсь и бы стурчев ксеный высу и оченье вернулоку.\n",
      "— Дежны внее, тетил стали болните положение оно с \n",
      "\n",
      "[15m 7s (1400 70%) 2.4978]\n",
      "Манишало ссоведи товпер. — Чт. a cu pat rttu céus ct vs uou 248]\n",
      "— «Юнисо — с им зачисскам егало не он \n",
      "\n",
      "[16m 19s (1500 75%) 2.7515]\n",
      "Малу сказался поледений и вы чевлаское пожения мая, отом уместву обетком сладовстала его собу, усень к \n",
      "\n",
      "[17m 40s (1600 80%) 2.0373]\n",
      "Марающьой и гон, вшишя, гарую нестал солдататать. Наша.\n",
      "\n",
      "Вместо: Гравни Огне и отрок Аркого ехал что т \n",
      "\n",
      "[18m 43s (1700 85%) 2.3975]\n",
      "Мартили, котовориило перемивляю. Нагостахка, правшились оттолой в ходилать-то нименно на топрой нас та \n",
      "\n",
      "[19m 55s (1800 90%) 2.3557]\n",
      "Маписть, — а онко. Потра ни к мнестом, как ужил Мей как строку 20. — С. Фарской слово. 2I гр. 10.\n",
      "Стр. \n",
      "\n",
      "[21m 9s (1900 95%) 2.5325]\n",
      "Мая всё прость. В хредари мотоловолые: — вогда из поталать тануй как быть его, так прадья, что можети, \n",
      "\n",
      "[22m 18s (2000 100%) 2.1072]\n",
      "Матвиньется на гором весть порушестившести, знательном, так не что, и откна и воскор руканит на нестья \n",
      "\n"
     ]
    }
   ],
   "source": [
    "n_epochs = 2000\n",
    "print_every = 100\n",
    "plot_every = 10\n",
    "hidden_size = 100\n",
    "n_layers = 2\n",
    "lr = 0.005\n",
    "\n",
    "decoder = RNN(n_characters, hidden_size, n_characters, n_layers)\n",
    "decoder_optimizer = torch.optim.Adam(decoder.parameters(), lr=lr)\n",
    "criterion = nn.CrossEntropyLoss()\n",
    "\n",
    "start = time.time()\n",
    "all_losses = []\n",
    "loss_avg = 0\n",
    "\n",
    "for epoch in range(1, n_epochs + 1):\n",
    "    loss = train(*random_training_set())       \n",
    "    loss_avg += loss\n",
    "\n",
    "    if epoch % print_every == 0:\n",
    "        print('[%s (%d %d%%) %.4f]' % (time_since(start), epoch, epoch / n_epochs * 100, loss))\n",
    "        print(evaluate('Ма', 100), '\\n')\n",
    "\n",
    "    if epoch % plot_every == 0:\n",
    "        all_losses.append(loss_avg / plot_every)\n",
    "        loss_avg = 0"
   ]
  },
  {
   "cell_type": "code",
   "execution_count": 38,
   "metadata": {},
   "outputs": [
    {
     "data": {
      "text/plain": [
       "[<matplotlib.lines.Line2D at 0x7f5e082201d0>]"
      ]
     },
     "execution_count": 38,
     "metadata": {},
     "output_type": "execute_result"
    },
    {
     "data": {
      "image/png": "[encoded data removed]",
      "text/plain": [
       "<Figure size 432x288 with 1 Axes>"
      ]
     },
     "metadata": {
      "needs_background": "light"
     },
     "output_type": "display_data"
    }
   ],
   "source": [
    "import matplotlib.pyplot as plt\n",
    "import matplotlib.ticker as ticker\n",
    "%matplotlib inline\n",
    "\n",
    "plt.figure()\n",
    "plt.plot(all_losses)"
   ]
  },
  {
   "cell_type": "code",
   "execution_count": 96,
   "metadata": {},
   "outputs": [
    {
     "name": "stdout",
     "output_type": "stream",
     "text": [
      "Мали на стара, на в своем старивая в тебя и не все потовать привать приветить привет проставления и не в тебя и не в тебя и не в тебя и в говорить в своем по на то в то в то в говорить на то в тебя и не\n"
     ]
    }
   ],
   "source": [
    "print(evaluate('Ма', 200, temperature=0.1))"
   ]
  },
  {
   "cell_type": "code",
   "execution_count": 102,
   "metadata": {},
   "outputs": [
    {
     "name": "stdout",
     "output_type": "stream",
     "text": [
      "\" я не веренить потовая всему старь на старь на своем то в говорить привать и не все привать в своем он в так в своем том в то в тебя примотрения собою он потовать и на так на так с на то не высть и в изд. Поления не в строка слышал на старовно от вствовать не весть и не проставил на своем он всегда потомые не старь и не в своем и не весть и не во и в то в то потом говорить на стально в изд. Предность по на на так в изд. Предно мольше и меня на то в то в то в то в своем от на старовна и не весть \n"
     ]
    }
   ],
   "source": [
    "print(evaluate('\"', 500, temperature=0.2))"
   ]
  },
  {
   "cell_type": "code",
   "execution_count": 98,
   "metadata": {},
   "outputs": [
    {
     "name": "stdout",
     "output_type": "stream",
     "text": [
      "que b\n",
      "Кцез прюченнодцно повлевтин и сс А роtя фисказавли низдатте сни Маркнез * La hoiir le de mnredi des de pçracii er ызщегл втерное Лавкого и как хотем, в \n",
      "\n",
      "\n",
      "Стр. 197., — М. Пись. Наvвею рам [имитави»\n"
     ]
    }
   ],
   "source": [
    "print(evaluate('que', 200, temperature=1.1))"
   ]
  }
 ],
 "metadata": {
  "kernelspec": {
   "display_name": "Python 3",
   "language": "python",
   "name": "python3"
  },
  "language_info": {
   "codemirror_mode": {
    "name": "ipython",
    "version": 3
   },
   "file_extension": ".py",
   "mimetype": "text/x-python",
   "name": "python",
   "nbconvert_exporter": "python",
   "pygments_lexer": "ipython3",
   "version": "3.6.6"
  }
 },
 "nbformat": 4,
 "nbformat_minor": 2
}
